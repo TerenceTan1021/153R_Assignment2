{
 "cells": [
  {
   "cell_type": "markdown",
   "id": "1a1863bf",
   "metadata": {},
   "source": [
    "Symbolic Unconditional Music Generator\n",
    "====="
   ]
  },
  {
   "cell_type": "code",
   "execution_count": 1,
   "id": "d58d32d0",
   "metadata": {},
   "outputs": [],
   "source": [
    "#Important Imports can add more as needed\n",
    "#Easier Importing you can type \"pip install -r imports.txt\" in the terminal\n",
    "#these are imports from workbook3\n",
    "import glob\n",
    "import random\n",
    "from typing import List\n",
    "from collections import defaultdict\n",
    "\n",
    "import numpy as np\n",
    "from numpy.random import choice\n",
    "\n",
    "import torch\n",
    "import torch.nn as nn\n",
    "import torch.optim as optim\n",
    "import torch.nn.functional as F\n",
    "from torch.utils.data import Dataset, DataLoader\n",
    "\n",
    "from symusic import Score\n",
    "from miditok import REMI, TokenizerConfig\n",
    "\n",
    "#additional imports for the LSTM model\n",
    "from miditok import TokSequence\n",
    "from midi_utils import midi_to_note_duration_sequence, note_sequence_to_midi\n",
    "#from tensorflow.keras.models import Sequential\n",
    "#from tensorflow.keras.layers import LSTM, Dense, Dropout"
   ]
  },
  {
   "cell_type": "markdown",
   "id": "fe6a5615",
   "metadata": {},
   "source": [
    "## 1. Load MIDI Files"
   ]
  },
  {
   "cell_type": "code",
   "execution_count": 44,
   "id": "221e0913",
   "metadata": {},
   "outputs": [
    {
     "data": {
      "text/plain": [
       "93"
      ]
     },
     "execution_count": 44,
     "metadata": {},
     "output_type": "execute_result"
    }
   ],
   "source": [
    "#random seed can be changed to get different results, default its 42\n",
    "#from CSE_153R Homework 3(Spring 2025)\n",
    "random.seed(42)\n",
    "\n",
    "#Loading the music data\n",
    "#first is popular pop songs I enjoy\n",
    "#midi_files = glob('data/*.mid')\n",
    "#same midi file data We have trained on for Assigment 1 Task 1\n",
    "#midi_files = glob('Assignment1(Task1_midis)/*.midi')\n",
    "#Lofi music data I got from kaggle\n",
    "midi_files = glob.glob('Lo-Fi/*.mid')\n",
    "#print(midi_files)\n",
    "len(midi_files)\n",
    "    "
   ]
  },
  {
   "cell_type": "markdown",
   "id": "8db4cde5",
   "metadata": {},
   "source": [
    "### We are focusing on only Grand Piano, which is a very commonly used instrument for Lofti music. Our Whole training data uses only Grand Piano, which is program 0 in MIDI files."
   ]
  },
  {
   "cell_type": "code",
   "execution_count": 47,
   "id": "5417112b",
   "metadata": {},
   "outputs": [
    {
     "name": "stdout",
     "output_type": "stream",
     "text": [
      "\n",
      " instrument programs used by training data:\n",
      "1. Program 0: 4060 notes\n"
     ]
    }
   ],
   "source": [
    "def extract_instrument_stats(midi_files):\n",
    "    program_counts = defaultdict(int)\n",
    "    \n",
    "    for file_path in midi_files:\n",
    "        score = Score(file_path)\n",
    "        for track in score.tracks:\n",
    "            # Get program number (0-127)\n",
    "            program = track.program\n",
    "            # Count notes in this track\n",
    "            note_count = len(track.notes)\n",
    "            program_counts[program] += note_count\n",
    "    \n",
    "    return program_counts\n",
    "\n",
    "instrument_stats = extract_instrument_stats(midi_files)\n",
    "\n",
    "# Sort if training data contains more than 1 programs, in this case no.\n",
    "top_programs = sorted(instrument_stats.items(), key=lambda x: x[1], reverse=True)[:4]\n",
    "\n",
    "print(\"\\n instrument programs used by training data:\")\n",
    "for i, (program, count) in enumerate(top_programs, 1):\n",
    "    print(f\"{i}. Program {program}: {count} notes\")"
   ]
  },
  {
   "cell_type": "markdown",
   "id": "b0529b3f",
   "metadata": {},
   "source": [
    "# 2. Training A Tokenizer With REMI Method\n",
    " - Configures MIDI tokenizer with simplified settings：\n",
    " \n",
    "     - Ignore how hard notes are pressed\n",
    "\n",
    "     - Don't treat chords as single items\n",
    "\n",
    "     - Ignore instrument types\n",
    "\n",
    " - Initializes REMI tokenizer\n",
    "\n",
    " - Trains tokenizer on the MIDI files with 1000-token vocabulary"
   ]
  },
  {
   "cell_type": "code",
   "execution_count": 36,
   "id": "18dadabc",
   "metadata": {},
   "outputs": [],
   "source": [
    "note_config = TokenizerConfig(num_velocities=1, use_chords=False, use_programs=False)\n",
    "note_tokenizer = REMI(note_config)\n",
    "note_tokenizer.train(vocab_size=1000, files_paths=midi_files)"
   ]
  },
  {
   "cell_type": "markdown",
   "id": "613d9661",
   "metadata": {},
   "source": [
    "### Example of tokenization on the first MIDI file"
   ]
  },
  {
   "cell_type": "code",
   "execution_count": 37,
   "id": "8e11d276",
   "metadata": {},
   "outputs": [
    {
     "data": {
      "text/plain": [
       "['Bar_None',\n",
       " 'Position_0',\n",
       " 'Pitch_47',\n",
       " 'Velocity_127',\n",
       " 'Duration_0.3.8',\n",
       " 'Pitch_54',\n",
       " 'Velocity_127',\n",
       " 'Duration_0.3.8',\n",
       " 'Pitch_62',\n",
       " 'Velocity_127']"
      ]
     },
     "execution_count": 37,
     "metadata": {},
     "output_type": "execute_result"
    }
   ],
   "source": [
    "# e.g.:\n",
    "midi = Score(midi_files[0])\n",
    "tokens = note_tokenizer(midi)[0].tokens\n",
    "tokens[:10]"
   ]
  },
  {
   "cell_type": "markdown",
   "id": "26569461",
   "metadata": {},
   "source": [
    "# 3. Extracting The Notes\n",
    " - Define helper function that extracts pitch numbers from tokenized MIDI\n",
    "\n",
    " - Aggregate all notes from all MIDI files into single list"
   ]
  },
  {
   "cell_type": "code",
   "execution_count": 22,
   "id": "c7ca0c9d",
   "metadata": {},
   "outputs": [
    {
     "name": "stdout",
     "output_type": "stream",
     "text": [
      "Each midifile notes:  [47, 54, 62, 69, 73, 47, 59, 62, 66, 69, 52, 59, 62, 67, 71, 74, 50, 61, 66, 69, 76, 47, 54, 62, 69, 73, 47, 59, 62, 66, 69, 52, 59, 62, 67, 71, 74, 50, 61, 66, 69, 76, 47, 54, 62, 69, 73, 45, 69, 72, 64, 83, 86, 64, 67, 76, 52, 64, 67, 71, 86, 78, 66, 76, 71, 79, 45, 69, 72, 64, 83, 86, 64, 67, 76, 52, 64, 67, 71, 86, 78, 66, 76, 79, 43, 62, 67, 71, 78, 71, 67, 62, 53, 65, 69, 72, 76, 74, 79, 67, 43, 62, 67, 71, 78, 71, 67, 62, 53, 65, 69, 72, 76, 74, 79, 67, 41, 60, 65, 69, 76, 50, 62, 65, 69, 72, 52, 64, 67, 71, 79, 84, 71, 46, 65, 70, 73, 75, 53, 65, 68, 72, 53, 65, 68, 72, 77, 46, 65, 70, 73, 77, 82, 46, 65, 70, 73, 75, 53, 65, 68, 72, 53, 65, 68, 72, 77, 46, 65, 70, 73, 77, 82, 36, 60, 64, 55, 69, 38, 62, 65, 57, 67, 40, 64, 57, 59, 74, 43, 55, 59, 62, 64, 69, 45, 64, 69, 72, 79, 83, 64, 67, 48, 64, 67, 72, 86, 60, 69, 47, 66, 71, 74, 81, 41, 60, 65, 69, 76, 79, 50, 62, 65, 69, 72, 52, 64, 67, 71, 74, 41, 60, 65, 69, 76, 41, 60, 65, 69, 76, 79, 50, 62, 65, 69, 72, 52, 64, 67, 71, 74, 41, 60, 65, 69, 76, 40, 59, 64, 67, 76, 48, 60, 64, 67, 81, 48, 60, 64, 67, 76, 50, 62, 67, 69, 83, 81, 79, 40, 59, 64, 67, 76, 48, 60, 64, 67, 81, 48, 60, 64, 67, 76, 50, 62, 67, 69, 83, 81, 79, 39, 58, 63, 66, 73, 47, 59, 61, 66, 70, 47, 59, 61, 66, 70, 47, 59, 63, 66, 70, 54, 49, 61, 65, 68, 80, 82, 39, 58, 63, 66, 73, 47, 59, 61, 66, 70, 47, 59, 61, 66, 70, 47, 59, 63, 66, 70, 54, 49, 61, 65, 68, 80, 82, 36, 55, 60, 70, 79, 39, 55, 58, 63, 74, 43, 55, 58, 62, 82, 58, 39, 55, 58, 63, 72, 74, 36, 55, 60, 70, 79, 39, 55, 58, 63, 74, 43, 55, 58, 62, 82, 58, 39, 55, 58, 63, 72, 74, 44, 56, 63, 66, 70, 71, 75, 44, 56, 63, 66, 70, 71, 75, 51, 58, 65, 66, 70, 73, 39, 46, 54, 58, 61, 63, 73, 46, 56, 62, 66, 73, 46, 53, 56, 60, 61, 65, 60, 63, 67, 70, 79, 67, 70, 74, 77, 63, 67, 70, 74, 74, 58, 69, 60, 63, 67, 70, 79, 67, 70, 74, 77, 63, 67, 70, 74, 74, 58, 69, 60, 63, 67, 70, 54, 61, 64, 69, 50, 57, 62, 66, 69, 73, 76, 47, 59, 62, 66, 69, 47, 54, 57, 62, 66, 69, 73, 50, 57, 62, 66, 69, 73, 76, 51, 58, 63, 66, 70, 51, 58, 63, 65, 70, 44, 56, 59, 63, 66, 70, 71, 75, 46, 51, 53, 58, 61, 65, 66, 70, 50, 58, 62, 65, 70, 51, 58, 63, 66, 70, 51, 58, 63, 65, 70, 44, 56, 59, 63, 66, 70, 71, 75, 46, 51, 53, 58, 61, 65, 66, 70, 50, 58, 62, 65, 70, 40, 64, 67, 59, 74, 78, 50, 62, 66, 69, 73, 76, 47, 59, 62, 66, 81, 50, 62, 66, 69, 73, 76, 50, 62, 66, 69, 83, 36, 60, 64, 55, 71, 40, 64, 55, 59, 74, 36, 60, 64, 55, 71, 64, 40, 64, 55, 59, 74, 69, 36, 60, 64, 55, 71, 40, 64, 55, 59, 74, 36, 60, 64, 55, 71, 64, 40, 64, 55, 59, 74, 69, 36, 60, 63, 55, 70, 74, 67, 70, 39, 63, 55, 58, 74, 77, 75, 79, 36, 60, 63, 55, 70, 74, 67, 70, 39, 63, 55, 58, 74, 77, 75, 79, 40, 64, 67, 59, 64, 67, 76, 47, 59, 62, 66, 81, 66, 78, 76, 79, 83, 40, 64, 67, 59, 64, 67, 76, 47, 59, 62, 66, 81, 66, 78, 76, 79, 83, 45, 64, 69, 72, 79, 83, 64, 67, 81, 76, 69, 53, 65, 69, 72, 76, 69, 55, 67, 69, 74, 76, 45, 64, 69, 72, 79, 69, 45, 64, 69, 72, 79, 83, 64, 67, 81, 76, 69, 53, 65, 69, 72, 76, 69, 55, 67, 69, 74, 76, 45, 64, 69, 72, 79, 69, 48, 53, 57, 64, 91, 89, 88, 81, 79, 86, 76, 48, 88, 55, 59, 64, 79, 55, 72, 74, 48, 53, 57, 64, 91, 89, 88, 81, 79, 86, 76, 48, 88, 55, 59, 64, 79, 55, 72, 74, 49, 53, 56, 60, 63, 80, 79, 75, 72, 70, 72, 51, 55, 58, 63, 75, 72, 53, 56, 60, 63, 80, 53, 56, 60, 63, 67, 79, 75, 72, 53, 56, 60, 63, 67, 70, 56, 60, 63, 67, 70, 72, 56, 58, 60, 63, 67, 82, 84, 30, 52, 57, 59, 61, 73, 85, 71, 83, 52, 57, 59, 61, 69, 81, 61, 52, 57, 59, 61, 69, 81, 37, 52, 56, 59, 61, 71, 83, 73, 85, 36, 51, 55, 58, 61, 35, 50, 54, 57, 64, 76, 61, 71, 83, 61, 38, 49, 54, 57, 61, 61, 69, 81, 30, 52, 57, 59, 61, 73, 85, 71, 83, 52, 57, 59, 61, 69, 81, 61, 52, 57, 59, 61, 69, 81, 37, 52, 56, 59, 61, 71, 83, 73, 85, 36, 51, 55, 58, 61, 35, 50, 54, 57, 76, 88, 61, 78, 90, 61, 38, 49, 54, 57, 61, 76, 88, 61, 69, 81, 41, 53, 64, 57, 60, 53, 60, 41, 57, 64, 69, 72, 76, 74, 71, 72, 71, 67, 38, 50, 53, 57, 60, 67, 38, 53, 57, 50, 60, 67, 64, 62, 67, 69, 72, 41, 53, 57, 60, 64, 53, 57, 60, 64, 69, 41, 72, 76, 74, 71, 72, 79, 76, 38, 50, 53, 57, 60, 76, 38, 50, 53, 57, 60, 76, 74, 62, 53, 57, 67, 38, 50, 69, 72, 45, 57, 59, 67, 60, 71, 43, 55, 59, 63, 65, 67, 69, 63, 65, 47, 59, 67, 47, 55, 59, 63, 65, 55, 59, 48, 60, 64, 62, 67, 71, 40, 59, 52, 60, 67, 65, 60, 44, 56, 59, 60, 65, 65, 67, 65, 64, 84, 53, 64, 86, 69, 60, 84, 81, 83, 84, 76, 52, 81, 59, 62, 67, 74, 83, 79, 72, 76, 64, 71, 53, 64, 69, 60, 81, 83, 84, 81, 62, 67, 59, 52, 83, 77, 79, 77, 79, 76, 45, 57, 64, 81, 60, 74, 76, 74, 72, 48, 75, 60, 63, 67, 70, 67, 63, 74, 52, 53, 63, 65, 69, 65, 63, 72, 45, 50, 69, 60, 72, 60, 65, 54, 65, 55, 67, 71, 74, 65, 67, 47, 48, 48, 60, 63, 67, 70, 67, 63, 74, 52, 53, 63, 65, 69, 65, 63, 72, 45, 50, 69, 60, 72, 60, 65, 54, 65, 55, 67, 71, 74, 65, 67, 79, 47, 77, 36, 51, 48, 55, 58, 48, 55, 51, 62, 48, 51, 55, 62, 39, 41, 53, 51, 57, 53, 60, 51, 41, 41, 51, 53, 60, 39, 48, 53, 57, 38, 38, 48, 60, 38, 53, 60, 48, 42, 55, 53, 43, 59, 55, 62, 43, 53, 53, 63, 43, 63, 43, 65, 63, 48, 57, 67, 70, 66, 51, 60, 58, 66, 68, 66, 65, 60, 46, 57, 65, 58, 43, 52, 62, 36, 48, 55, 62, 63, 70, 77, 74, 41, 34, 46, 53, 60, 62, 69, 77, 74, 79, 72, 36, 48, 55, 62, 63, 70, 77, 74, 41, 34, 46, 53, 60, 62, 69, 77, 74, 43, 79, 72, 58, 61, 65, 71, 72, 70, 68, 68, 75, 64, 68, 61, 74, 75, 73, 71, 71, 78, 63, 67, 60, 73, 74, 72, 70, 70, 77, 62, 66, 59, 72, 73, 71, 69, 69, 76, 45, 52, 56, 61, 45, 56, 61, 64, 47, 54, 61, 63, 49, 56, 59, 64, 49, 49, 59, 64, 68, 80, 49, 56, 59, 64, 76, 44, 54, 59, 63, 75, 44, 54, 59, 63, 44, 59, 63, 66, 44, 54, 59, 63, 45, 59, 64, 68, 80, 44, 54, 59, 63, 83, 53, 58, 61, 65, 68, 54, 59, 63, 64, 68, 66, 59, 53, 53, 58, 61, 65, 68, 54, 59, 63, 64, 68, 66, 59, 53, 46, 58, 61, 65, 68, 72, 70, 46, 58, 61, 65, 68, 72, 46, 70, 46, 58, 61, 65, 68, 72, 70, 46, 58, 61, 65, 68, 72, 70, 44, 39, 42, 54, 58, 61, 65, 68, 65, 42, 54, 58, 61, 65, 68, 42, 65, 39, 54, 58, 61, 65, 68, 65, 49, 54, 58, 61, 65, 68, 65, 44, 62, 47, 54, 64, 61, 66, 62, 69, 64, 71, 73, 66, 69, 81, 71, 73, 78, 52, 59, 67, 66, 71, 67, 74, 69, 76, 78, 71, 81, 74, 85, 71, 81, 74, 78, 81, 83, 81, 59, 52, 38, 50, 54, 57, 61, 50, 54, 57, 64, 54, 61, 50, 45, 55, 59, 61, 64, 55, 59, 61, 67, 42, 54, 58, 69, 46, 54, 58, 61, 67, 47, 54, 57, 61, 62, 66, 57, 61, 62, 66, 57, 45, 43, 50, 55, 59, 55, 57, 62, 66, 57, 62, 66, 55, 57, 62, 66, 43, 38, 50, 54, 57, 61, 50, 54, 57, 64, 54, 61, 50, 45, 55, 59, 61, 64, 55, 59, 61, 67, 42, 54, 58, 69, 46, 54, 58, 61, 67, 47, 54, 57, 61, 62, 66, 57, 61, 62, 66, 57, 45, 43, 50, 55, 59, 55, 57, 62, 66, 57, 62, 66, 55, 57, 62, 66, 43, 50, 61, 66, 69, 57, 59, 47, 59, 62, 66, 54, 57, 55, 40, 55, 59, 62, 52, 55, 66, 45, 59, 61, 64, 55, 59, 61, 50, 57, 61, 66, 62, 47, 54, 57, 59, 62, 57, 59, 62, 40, 55, 62, 66, 52, 45, 55, 59, 61, 64, 45, 55, 59, 61, 64, 49, 46, 58, 62, 65, 69, 89, 101, 88, 100, 77, 76, 74, 72, 38, 62, 69, 72, 77, 86, 98, 38, 81, 93, 74, 76, 45, 74, 67, 34, 46, 53, 62, 69, 72, 77, 69, 72, 77, 69, 72, 77, 81, 84, 34, 69, 72, 77, 81, 33, 72, 79, 31, 43, 50, 58, 69, 74, 77, 69, 74, 77, 69, 74, 77, 81, 84, 31, 69, 74, 77, 81, 33, 74, 79, 26, 41, 50, 57, 69, 72, 77, 69, 72, 77, 69, 72, 77, 81, 84, 28, 69, 72, 77, 81, 72, 79, 29, 41, 48, 57, 69, 72, 77, 69, 72, 77, 69, 72, 77, 84, 86, 36, 69, 72, 77, 81, 72, 79, 84, 40, 47, 55, 67, 66, 55, 74, 83, 59, 72, 38, 45, 59, 62, 67, 74, 66, 59, 62, 79, 55, 60, 72, 81, 36, 43, 52, 67, 79, 66, 59, 74, 83, 55, 72, 38, 48, 57, 60, 67, 74, 59, 66, 57, 62, 83, 55, 60, 79, 40, 47, 55, 67, 66, 55, 74, 59, 72, 38, 45, 59, 62, 67, 66, 59, 62, 55, 60, 72, 36, 43, 52, 67, 66, 59, 74, 55, 72, 38, 48, 57, 60, 67, 59, 66, 57, 62, 55, 60, 46, 58, 62, 65, 69, 46, 58, 62, 65, 69, 72, 69, 48, 60, 64, 67, 69, 48, 58, 60, 64, 67, 48, 58, 60, 65, 41, 53, 55, 57, 60, 64, 41, 53, 57, 60, 64, 72, 69, 38, 50, 53, 57, 60, 67, 69, 38, 50, 53, 57, 60, 65, 67, 38, 50, 53, 57, 62, 65, 46, 58, 62, 65, 69, 46, 58, 62, 65, 69, 72, 69, 48, 58, 60, 64, 67, 69, 48, 58, 60, 64, 67, 58, 60, 65, 74, 41, 53, 57, 60, 64, 74, 76, 41, 53, 57, 60, 64, 74, 41, 53, 55, 60, 63, 72, 74, 41, 53, 55, 60, 63, 72, 41, 53, 55, 60, 65, 69, 41, 55, 56, 60, 63, 48, 58, 60, 62, 63, 67, 45, 55, 57, 59, 60, 64, 44, 55, 56, 60, 63, 55, 56, 58, 41, 55, 56, 60, 63, 67, 48, 60, 62, 63, 67, 70, 45, 59, 60, 64, 67, 71, 44, 58, 60, 63, 67, 70, 65, 63, 61, 49, 53, 56, 60, 63, 49, 52, 54, 58, 61, 54, 63, 60, 58, 46, 49, 53, 56, 60, 46, 49, 52, 54, 58, 52, 51, 56, 59, 64, 68, 73, 71, 69, 49, 54, 57, 61, 64, 69, 52, 57, 61, 64, 68, 73, 47, 52, 56, 61, 64, 69, 68, 66, 44, 52, 56, 64, 61, 68, 71, 42, 54, 59, 63, 66, 76, 71, 64, 69, 73, 81, 76, 80, 78, 63, 68, 71, 75, 78, 61, 69, 73, 80, 76, 78, 76, 66, 71, 75, 78, 80, 40, 47, 50, 55, 57, 83, 62, 71, 59, 74, 91, 90, 79, 81, 33, 40, 43, 48, 50, 83, 86, 40, 47, 50, 55, 57, 83, 62, 71, 59, 74, 91, 90, 79, 81, 33, 40, 43, 48, 50, 83, 57, 72, 86, 76, 52, 64, 103, 67, 71, 74, 76, 79, 83, 86, 91, 107, 90, 108, 95, 88, 48, 60, 100, 108, 64, 67, 71, 72, 76, 79, 83, 88, 86, 91, 83, 52, 64, 103, 67, 71, 74, 76, 79, 83, 86, 91, 107, 90, 108, 52, 60, 68, 74, 45, 60, 108, 64, 67, 71, 72, 76, 79, 83, 88, 86, 71, 79, 53, 65, 72, 79, 68, 75, 53, 65, 72, 79, 68, 75, 49, 61, 68, 75, 65, 72, 84, 77, 80, 49, 61, 68, 75, 65, 72, 84, 89, 80, 53, 65, 72, 79, 68, 75, 53, 65, 72, 79, 68, 75, 53, 65, 72, 79, 68, 75, 49, 61, 68, 75, 65, 72, 84, 89, 80, 54, 59, 62, 66, 69, 74, 57, 60, 64, 67, 72, 55, 60, 64, 67, 71, 78, 76, 74, 71, 54, 59, 62, 66, 69, 74, 52, 55, 60, 64, 67, 55, 60, 64, 67, 71, 50, 55, 59, 62, 66, 42, 54, 58, 61, 66, 42, 54, 58, 61, 63, 52, 59, 56, 64, 80, 78, 76, 75, 74, 73, 71, 70, 42, 54, 58, 61, 66, 42, 54, 58, 61, 63, 49, 56, 52, 63, 46, 78, 54, 51, 61, 76, 75, 74, 73, 71, 70, 68, 43, 50, 55, 59, 62, 45, 52, 55, 59, 64, 43, 50, 55, 59, 62, 42, 47, 50, 54, 57, 40, 47, 52, 55, 59, 42, 48, 52, 55, 60, 40, 47, 52, 55, 59, 38, 43, 47, 50, 54, 55, 71, 74, 62, 66, 78, 71, 74, 59, 62, 66, 69, 73, 71, 78, 52, 71, 74, 62, 66, 78, 71, 74, 54, 62, 66, 69, 73, 71, 78, 71, 69, 78, 76, 55, 71, 74, 62, 66, 78, 71, 74, 59, 62, 66, 69, 73, 71, 78, 52, 71, 74, 62, 66, 78, 71, 74, 54, 62, 66, 69, 73, 71, 78, 71, 69, 78, 76, 55, 74, 78, 83, 59, 78, 81, 86, 58, 77, 80, 85, 57, 76, 79, 84, 55, 74, 78, 83, 59, 81, 86, 58, 77, 80, 85, 57, 76, 79, 84, 49, 52, 56, 61, 63, 68, 73, 71, 49, 51, 70, 54, 58, 51, 63, 54, 58, 52, 56, 59, 63, 70, 51, 61, 68, 54, 58, 49, 59, 52, 56, 49, 52, 56, 61, 63, 68, 73, 71, 49, 51, 70, 54, 58, 51, 63, 54, 58, 52, 56, 59, 63, 70, 51, 61, 68, 54, 58, 49, 59, 52, 56, 43, 58, 60, 62, 65, 46, 57, 62, 65, 72, 74, 72, 50, 48, 55, 58, 63, 72, 70, 48, 55, 58, 63, 50, 41, 43, 58, 60, 62, 65, 43, 45, 46, 57, 62, 65, 72, 74, 72, 50, 48, 55, 58, 63, 72, 70, 48, 55, 58, 63, 50, 41, 45, 52, 57, 60, 64, 72, 74, 72, 71, 69, 41, 69, 50, 71, 55, 62, 67, 40, 45, 50, 53, 57, 62, 67, 69, 67, 65, 64, 36, 50, 53, 64, 45, 65, 57, 38, 62, 47, 52, 55, 47, 52, 55, 59, 62, 64, 59, 62, 50, 54, 57, 61, 64, 45, 50, 53, 55, 59, 53, 54, 55, 45, 49, 52, 54, 57, 47, 52, 55, 59, 62, 64, 59, 62, 50, 54, 57, 61, 64, 45, 50, 53, 55, 59, 53, 54, 55, 45, 49, 52, 54, 57, 61, 64, 68, 73, 78, 81, 80, 78, 59, 63, 66, 71, 56, 76, 59, 63, 68, 80, 78, 76, 54, 57, 61, 69, 73, 64, 66, 56, 59, 63, 71, 75, 66, 57, 61, 64, 73, 76, 68, 51, 55, 60, 63, 67, 75, 74, 67, 48, 53, 56, 60, 63, 70, 60, 53, 56, 60, 77, 63, 68, 75, 65, 55, 58, 62, 65, 72, 68, 51, 55, 60, 63, 67, 75, 74, 67, 48, 53, 56, 80, 60, 63, 70, 79, 60, 53, 56, 60, 77, 63, 68, 75, 65, 55, 58, 80, 62, 65, 72, 79, 68, 75, 52, 81, 83, 67, 74, 83, 86, 50, 73, 81, 71, 78, 83, 90, 52, 74, 81, 79, 83, 83, 86, 50, 73, 78, 81, 83, 83, 90, 88, 50, 53, 60, 57, 64, 69, 67, 50, 53, 57, 64, 69, 62, 48, 55, 64, 57, 60, 48, 52, 55, 57, 60, 64, 55, 58, 62, 65, 69, 53, 57, 60, 65, 72, 74, 51, 56, 59, 63, 66, 71, 76, 75, 68, 66, 61, 47, 57, 61, 64, 68, 71, 45, 54, 57, 61, 64, 68, 51, 56, 59, 63, 66, 71, 76, 75, 68, 66, 61, 47, 57, 61, 64, 68, 71, 45, 54, 57, 61, 64, 68, 44, 56, 59, 63, 66, 71, 51, 63, 74, 67, 70, 79, 82, 84, 53, 65, 68, 72, 77, 80, 86, 84, 50, 62, 65, 67, 78, 70, 74, 79, 75, 77, 63, 75, 51, 63, 74, 67, 70, 79, 82, 84, 53, 65, 68, 72, 77, 80, 86, 84, 62, 65, 67, 78, 50, 70, 74, 79, 75, 77, 75, 51, 56, 59, 63, 66, 71, 49, 52, 56, 59, 64, 47, 52, 56, 59, 63, 68, 51, 56, 59, 63, 66, 71, 49, 52, 56, 59, 64, 47, 52, 56, 59, 63, 64, 66, 68, 71, 63, 41, 60, 56, 53, 61, 51, 39, 58, 54, 49, 60, 37, 53, 56, 63, 41, 60, 56, 53, 61, 51, 39, 58, 54, 49, 60, 37, 53, 56, 78, 74, 67, 71, 90, 86, 83, 76, 79, 72, 62, 65, 69, 83, 81, 60, 71, 64, 67, 60, 63, 70, 67, 55, 67, 70, 74, 77, 69, 72, 57, 76, 79, 70, 58, 81, 74, 77, 57, 69, 72, 76, 79, 67, 55, 70, 74, 77, 57, 69, 72, 76, 79, 58, 70, 74, 63, 70, 74, 77, 60, 67, 70, 74, 58, 65, 69, 72, 58, 72, 69, 65, 63, 70, 74, 77, 60, 67, 70, 74, 58, 65, 69, 72, 58, 72, 69, 65, 85, 87, 89, 94, 92, 89, 87, 89, 85, 87, 89, 94, 92, 89, 87, 89, 85, 87, 89, 94, 92, 89, 87, 85, 82, 85, 85, 87, 89, 94, 92, 89, 87, 85, 82, 85, 65, 58, 55, 43, 62, 67, 57, 45, 60, 64, 58, 46, 69, 62, 67, 45, 57, 60, 64, 41, 53, 64, 57, 60, 65, 58, 43, 55, 62, 57, 67, 60, 45, 64, 58, 46, 69, 62, 65, 48, 67, 63, 60, 50, 62, 65, 69, 48, 60, 63, 67, 50, 62, 65, 69, 72, 69, 65, 62, 48, 63, 67, 60, 50, 62, 65, 69, 48, 60, 63, 67, 70, 50, 62, 65, 69, 65, 62, 60, 51, 54, 58, 61, 53, 56, 60, 63, 70, 58, 73, 61, 77, 65, 80, 68, 65, 53, 56, 68, 72, 60, 75, 63, 51, 39, 55, 51, 58, 62, 55, 62, 58, 36, 58, 48, 51, 55, 34, 46, 50, 57, 53, 39, 51, 55, 62, 75, 79, 86, 82, 36, 72, 75, 48, 51, 79, 55, 58, 82, 34, 46, 70, 50, 74, 57, 77, 81, 68, 52, 63, 52, 68, 52, 63, 52, 68, 52, 63, 52, 68, 52, 71, 52, 68, 52, 63, 52, 68, 52, 63, 52, 68, 52, 63, 52, 68, 52, 71, 52, 68, 52, 63, 52, 68, 52, 63, 52, 68, 52, 63, 52, 68, 52, 71, 52, 68, 52, 63, 52, 68, 52, 63, 52, 68, 52, 63, 52, 68, 52, 71, 52, 64, 67, 57, 60, 52, 55, 59, 62, 86, 83, 79, 57, 60, 64, 67, 81, 79, 83, 76, 52, 55, 62, 59, 66, 55, 59, 62, 60, 50, 53, 57, 48, 59, 52, 55, 58, 55, 48, 51, 53, 65, 69, 76, 72, 72, 69, 67, 58, 46, 62, 69, 65, 49, 61, 65, 72, 68, 68, 61, 81, 84, 84, 86, 88, 91, 86, 88, 88, 84, 86, 86, 84, 79, 91, 59, 71, 62, 40, 55, 52, 74, 76, 78, 71, 74, 76, 78, 71, 74, 76, 78, 81, 78, 76, 74, 78, 54, 35, 47, 57, 50, 58, 43, 65, 62, 55, 50, 58, 43, 65, 62, 55, 50, 43, 55, 58, 62, 65, 58, 41, 57, 48, 60, 53, 64, 41, 57, 53, 48, 60, 64, 41, 48, 53, 57, 60, 64, 53, 57, 60, 41, 64, 48, 43, 55, 62, 65, 50, 58, 43, 55, 65, 62, 58, 50, 43, 62, 50, 55, 65, 58, 43, 50, 62, 55, 65, 58, 41, 48, 53, 60, 57, 64, 53, 60, 64, 57, 48, 41, 41, 53, 48, 57, 60, 64, 41, 64, 53, 48, 60, 57, 73, 70, 73, 70, 73, 70, 73, 70, 73, 70, 73, 70, 73, 70, 73, 70, 73, 70, 73, 70, 73, 70, 73, 70, 73, 70, 73, 70, 73, 70, 73, 70, 75, 77, 80, 82, 80, 77, 73, 75, 77, 75, 73, 70, 68, 70, 73, 75, 77, 80, 82, 85, 87, 89, 94, 92, 89, 87, 89, 87, 85, 82, 80, 77, 75, 77, 75, 73, 70, 68, 65, 58, 46, 69, 65, 62, 60, 64, 53, 57, 41, 39, 51, 62, 55, 58, 58, 69, 62, 65, 72, 70, 74, 77, 67, 70, 74, 53, 57, 60, 64, 69, 53, 50, 57, 60, 65, 55, 71, 68, 59, 63, 52, 71, 68, 63, 68, 52, 63, 59, 48, 60, 63, 67, 70, 82, 79, 75, 72, 70, 43, 55, 58, 65, 62, 77, 74, 70, 67, 48, 60, 63, 67, 70, 82, 79, 75, 72, 70, 43, 55, 58, 65, 77, 74, 70, 67, 57, 59, 62, 64, 66, 67, 66, 67, 66, 64, 62, 57, 59, 56, 59, 63, 66, 63, 59, 56, 59, 63, 66, 47, 59, 62, 66, 69, 71, 74, 76, 55, 43, 62, 59, 66, 49, 61, 68, 71, 64, 71, 68, 64, 48, 60, 67, 64, 71, 45, 52, 55, 60, 48, 59, 55, 64, 50, 60, 57, 65, 71, 59, 56, 80, 68, 73, 61, 54, 78, 66, 49, 61, 66, 54, 73, 51, 66, 54, 75, 63, 77, 49, 70, 73, 49, 80, 77, 51, 75, 77, 75, 73, 51, 72, 72, 56, 68, 70, 72, 73, 56, 75, 77, 46, 70, 72, 73, 46, 75, 77, 80, 77, 49, 70, 73, 49, 80, 77, 51, 75, 77, 75, 73, 51, 72, 72, 56, 68, 70, 72, 73, 56, 75, 77, 46, 70, 72, 73, 46, 75, 77, 80, 77, 49, 70, 73, 49, 80, 77, 51, 75, 77, 75, 73, 51, 72, 72, 56, 68, 70, 72, 73, 56, 75, 77, 46, 70, 72, 73, 46, 75, 77, 80, 77, 49, 70, 73, 49, 80, 77, 51, 75, 77, 75, 73, 51, 72, 72, 56, 68, 70, 72, 73, 56, 75, 77, 46, 70, 72, 73, 46, 75, 77, 80, 77, 49, 70, 73, 49, 80, 77, 51, 75, 77, 75, 73, 51, 72, 72, 56, 68, 70, 72, 73, 56, 75, 77, 46, 70, 72, 73, 46, 75, 77, 80, 77, 49, 70, 73, 49, 80, 77, 51, 75, 77, 75, 73, 51, 72, 72, 56, 68, 70, 72, 73, 56, 75, 77, 46, 70, 72, 73, 46, 75, 77, 80]\n",
      "length of MifiFile notes:  4056\n",
      "Total notes in the dataset:  257475\n"
     ]
    }
   ],
   "source": [
    "def note_extraction(midi_file):\n",
    "    score = Score(midi_file)\n",
    "    tokens = note_tokenizer(score)[0].tokens\n",
    "    pitches = []\n",
    "    #only grabs the number if the starting word is \"Pitch\"\n",
    "    for token in tokens:\n",
    "        if token.startswith('Pitch'):\n",
    "            # Extract the note number from the token\n",
    "            note_number = int(token.split('_')[1])\n",
    "            pitches.append(note_number)\n",
    "    return pitches\n",
    "\n",
    "#Getting the list of notes as Corpus\n",
    "#create an Array of Notes from each midi file\n",
    "notes = []\n",
    "total_notes = 0\n",
    "for file in midi_files:\n",
    "    Corpus = note_extraction(file)\n",
    "    notes += Corpus\n",
    "    total_notes += sum(Corpus)\n",
    "print(\"Each midifile notes: \", notes)\n",
    "print(\"length of MifiFile notes: \", len(notes))\n",
    "print(\"Total notes in the dataset: \", total_notes)"
   ]
  },
  {
   "cell_type": "code",
   "execution_count": 39,
   "id": "606795cf",
   "metadata": {},
   "outputs": [
    {
     "name": "stdout",
     "output_type": "stream",
     "text": [
      "\n",
      "Top 4 instrument programs by note count:\n",
      "1. Program 0: 4060 notes\n"
     ]
    }
   ],
   "source": [
    "def extract_instrument_stats(midi_files):\n",
    "    program_counts = defaultdict(int)\n",
    "    \n",
    "    for file_path in midi_files:\n",
    "        score = Score(file_path)\n",
    "        for track in score.tracks:\n",
    "            # Get program number (0-127)\n",
    "            program = track.program\n",
    "            # Count notes in this track\n",
    "            note_count = len(track.notes)\n",
    "            program_counts[program] += note_count\n",
    "    \n",
    "    return program_counts\n",
    "\n",
    "instrument_stats = extract_instrument_stats(midi_files)\n",
    "\n",
    "# Get top 4 programs by note count\n",
    "top_programs = sorted(instrument_stats.items(), key=lambda x: x[1], reverse=True)[:4]\n",
    "\n",
    "print(\"\\nTop 4 instrument programs by note count:\")\n",
    "for i, (program, count) in enumerate(top_programs, 1):\n",
    "    print(f\"{i}. Program {program}: {count} notes\")"
   ]
  },
  {
   "cell_type": "markdown",
   "id": "eb1c99ff",
   "metadata": {},
   "source": [
    "# 4. Building the LSTM Model"
   ]
  },
  {
   "cell_type": "markdown",
   "id": "2b6aedc6",
   "metadata": {},
   "source": [
    "### Preparation:\n",
    " - Set training sequence\n",
    "\n",
    " - Prepare input-target pairs for LSTM training\n",
    " \n",
    " - Convert data to PyTorch tensors"
   ]
  },
  {
   "cell_type": "code",
   "execution_count": 23,
   "id": "ff24be6d",
   "metadata": {},
   "outputs": [],
   "source": [
    "seq_length = 32  # Number of notes in each input sequence\n",
    "step = 1\n",
    "\n",
    "# Create input/output pairs\n",
    "inputs = []\n",
    "targets = []\n",
    "for i in range(0, len(notes) - seq_length, step):\n",
    "    inputs.append(notes[i:i+seq_length])\n",
    "    targets.append(notes[i+seq_length])\n",
    "\n",
    "inputs = torch.tensor(inputs, dtype=torch.long)\n",
    "targets = torch.tensor(targets, dtype=torch.long)"
   ]
  },
  {
   "cell_type": "markdown",
   "id": "897b4714",
   "metadata": {},
   "source": [
    "### Define LSTM Model\n",
    " - Define architectures\n",
    " \n",
    " - Use only last LSTM output for prediction"
   ]
  },
  {
   "cell_type": "code",
   "execution_count": 24,
   "id": "5143abab",
   "metadata": {},
   "outputs": [],
   "source": [
    "class MusicLSTM(nn.Module):\n",
    "    def __init__(self, vocab_size, embedding_dim=64, hidden_dim=128, num_layers=2):\n",
    "        super().__init__()\n",
    "        self.embedding = nn.Embedding(vocab_size, embedding_dim)\n",
    "        self.lstm = nn.LSTM(embedding_dim, hidden_dim, num_layers, batch_first=True)\n",
    "        self.fc = nn.Linear(hidden_dim, vocab_size)\n",
    "\n",
    "    def forward(self, x, hidden=None):\n",
    "        x = self.embedding(x)\n",
    "        out, hidden = self.lstm(x, hidden)\n",
    "        out = self.fc(out[:, -1, :])  # Use only the last output for prediction\n",
    "        return out, hidden"
   ]
  },
  {
   "cell_type": "markdown",
   "id": "4a0b3884",
   "metadata": {},
   "source": [
    "# 5. Setting Up The Training"
   ]
  },
  {
   "cell_type": "markdown",
   "id": "2af180c7",
   "metadata": {},
   "source": [
    "### Initiallize Model\n",
    " - vocabulary size = maximum MIDI pitch\n",
    "\n",
    " - use GPU if available\n",
    "\n",
    " - use Adam optimizer with 0.01 learning rate\n",
    " \n",
    " - Use cross-entropy loss"
   ]
  },
  {
   "cell_type": "code",
   "execution_count": 25,
   "id": "1cf34343",
   "metadata": {},
   "outputs": [],
   "source": [
    "vocab_size = max(notes) + 1  # Or len(set(notes))\n",
    "model = MusicLSTM(vocab_size)\n",
    "#default use GPU unless not avaliable\n",
    "device = torch.device(\"cuda\" if torch.cuda.is_available() else \"cpu\")\n",
    "model = model.to(device)\n",
    "\n",
    "optimizer = torch.optim.Adam(model.parameters(), lr=0.01)\n",
    "criterion = nn.CrossEntropyLoss()"
   ]
  },
  {
   "cell_type": "markdown",
   "id": "69d9edd9",
   "metadata": {},
   "source": [
    "### Training Loop"
   ]
  },
  {
   "cell_type": "code",
   "execution_count": 26,
   "id": "3c5f4af2",
   "metadata": {},
   "outputs": [
    {
     "name": "stdout",
     "output_type": "stream",
     "text": [
      "Epoch 1/50, Loss: 232.4985\n",
      "Epoch 2/50, Loss: 185.0279\n",
      "Epoch 3/50, Loss: 151.3165\n",
      "Epoch 4/50, Loss: 123.8603\n",
      "Epoch 5/50, Loss: 97.6598\n",
      "Epoch 6/50, Loss: 78.1883\n",
      "Epoch 7/50, Loss: 58.6773\n",
      "Epoch 8/50, Loss: 45.2282\n",
      "Epoch 9/50, Loss: 36.0122\n",
      "Epoch 10/50, Loss: 28.1711\n",
      "Epoch 11/50, Loss: 20.9218\n",
      "Epoch 12/50, Loss: 14.8224\n",
      "Epoch 13/50, Loss: 10.6167\n",
      "Epoch 14/50, Loss: 8.7292\n",
      "Epoch 15/50, Loss: 7.2623\n",
      "Epoch 16/50, Loss: 5.4634\n",
      "Epoch 17/50, Loss: 4.6665\n",
      "Epoch 18/50, Loss: 3.5587\n",
      "Epoch 19/50, Loss: 2.9230\n",
      "Epoch 20/50, Loss: 2.6567\n",
      "Epoch 21/50, Loss: 2.3352\n",
      "Epoch 22/50, Loss: 2.2434\n",
      "Epoch 23/50, Loss: 2.0533\n",
      "Epoch 24/50, Loss: 1.9502\n",
      "Epoch 25/50, Loss: 1.8854\n",
      "Epoch 26/50, Loss: 2.0841\n",
      "Epoch 27/50, Loss: 2.4174\n",
      "Epoch 28/50, Loss: 5.6466\n",
      "Epoch 29/50, Loss: 67.8503\n",
      "Epoch 30/50, Loss: 137.5515\n",
      "Epoch 31/50, Loss: 105.3452\n",
      "Epoch 32/50, Loss: 72.1600\n",
      "Epoch 33/50, Loss: 48.0394\n",
      "Epoch 34/50, Loss: 32.2514\n",
      "Epoch 35/50, Loss: 22.6662\n",
      "Epoch 36/50, Loss: 14.0857\n",
      "Epoch 37/50, Loss: 9.4736\n",
      "Epoch 38/50, Loss: 6.0757\n",
      "Epoch 39/50, Loss: 4.3265\n",
      "Epoch 40/50, Loss: 3.1558\n",
      "Epoch 41/50, Loss: 2.6898\n",
      "Epoch 42/50, Loss: 2.3802\n",
      "Epoch 43/50, Loss: 1.9019\n",
      "Epoch 44/50, Loss: 1.8043\n",
      "Epoch 45/50, Loss: 1.6142\n",
      "Epoch 46/50, Loss: 1.4750\n",
      "Epoch 47/50, Loss: 1.3856\n",
      "Epoch 48/50, Loss: 1.2875\n",
      "Epoch 49/50, Loss: 1.2532\n",
      "Epoch 50/50, Loss: 1.2230\n"
     ]
    }
   ],
   "source": [
    "num_epochs = 50\n",
    "batch_size = 64\n",
    "\n",
    "for epoch in range(num_epochs):\n",
    "    permutation = torch.randperm(inputs.size(0))\n",
    "    epoch_loss = 0\n",
    "    for i in range(0, inputs.size(0), batch_size):\n",
    "        idx = permutation[i:i+batch_size]\n",
    "        batch_x = inputs[idx].to(device)\n",
    "        batch_y = targets[idx].to(device)\n",
    "\n",
    "        optimizer.zero_grad()\n",
    "        outputs, _ = model(batch_x)\n",
    "        loss = criterion(outputs, batch_y)\n",
    "        loss.backward()\n",
    "        optimizer.step()\n",
    "        epoch_loss += loss.item()\n",
    "    print(f\"Epoch {epoch+1}/{num_epochs}, Loss: {epoch_loss:.4f}\")"
   ]
  },
  {
   "cell_type": "markdown",
   "id": "1e8bc4ed",
   "metadata": {},
   "source": [
    "# 6. Generate Music"
   ]
  },
  {
   "cell_type": "markdown",
   "id": "928edbd8",
   "metadata": {},
   "source": [
    "### MIDI Export Helper Functions\n",
    "\n",
    " - `note_sequence_to_midi()` : creates a single-instrument midi\n",
    "\n",
    " - `multi_instrument_sequence_to_midi()` : creates a multi-instrument midi by creating seperate tracks for each instrument\n",
    "\n",
    " - Lo-Fi specific settings:\n",
    "\n",
    "     - Slower tempo (750000 μs/beat ≈ 80 BPM)\n",
    "\n",
    "     - Longer note durations"
   ]
  },
  {
   "cell_type": "code",
   "execution_count": 27,
   "id": "21cd9146",
   "metadata": {},
   "outputs": [],
   "source": [
    "#change the tempo for a slower BPM\n",
    "#increase note_length for longer notes, more lofi feel\n",
    "#AI suggest these programs for a Lo-Fi type of music\n",
    "\"\"\"\n",
    "program 0: is the Grand Piano\n",
    "program 4: is the Electric Piano\n",
    "program 6: is the Harpsichord\n",
    "program 11: is the Vibraphone\n",
    "program 24: is the Acoustic Guitar (nylon)\n",
    "program 32: is the Acosutic Bass\n",
    "program 48: is the String Ensemble 1\n",
    "\"\"\"\n",
    "def note_sequence_to_midi(note_sequence, filename, velocity=64, tempo=750000, note_length=240, program=24):\n",
    "    import mido\n",
    "    mid = mido.MidiFile()\n",
    "    track = mido.MidiTrack()\n",
    "    mid.tracks.append(track)\n",
    "    track.append(mido.MetaMessage('set_tempo', tempo=tempo))\n",
    "    track.append(mido.Message('program_change', program=program, time=0))\n",
    "    \n",
    "    for note in note_sequence:\n",
    "        track.append(mido.Message('note_on', note=note, velocity=velocity, time=0))\n",
    "        track.append(mido.Message('note_off', note=note, velocity=velocity, time=note_length))\n",
    "    mid.save(filename)"
   ]
  },
  {
   "cell_type": "code",
   "execution_count": 28,
   "id": "3b5987cf",
   "metadata": {},
   "outputs": [],
   "source": [
    "# I had AI generate a function that allowed me to create a midi file with multiple instruments\n",
    "# instead of my default one that only allows one single instrument\n",
    "def multi_instrument_sequence_to_midi(note_sequences, programs, filename, velocity=64, tempo=750000, note_length=240):\n",
    "    \"\"\"\n",
    "    note_sequences: list of lists, each sublist is a sequence of notes for one instrument\n",
    "    programs: list of program numbers (0-127), one for each instrument\n",
    "    \"\"\"\n",
    "    import mido\n",
    "    mid = mido.MidiFile()\n",
    "    # I am guessing here is where it iterates through each program/instrument\n",
    "    for channel, (notes, program) in enumerate(zip(note_sequences, programs)):\n",
    "        track = mido.MidiTrack()\n",
    "        mid.tracks.append(track)\n",
    "        track.append(mido.MetaMessage('set_tempo', tempo=tempo))\n",
    "        track.append(mido.Message('program_change', program=program, channel=channel, time=0))\n",
    "        for note in notes:\n",
    "            track.append(mido.Message('note_on', note=note, velocity=velocity, time=0, channel=channel))\n",
    "            track.append(mido.Message('note_off', note=note, velocity=velocity, time=note_length, channel=channel))\n",
    "    mid.save(filename)"
   ]
  },
  {
   "cell_type": "markdown",
   "id": "ba53e49a",
   "metadata": {},
   "source": [
    "### Music Generation Process:\n",
    "\n",
    "1. Starts with seed sequence (first 32 notes)\n",
    "\n",
    "2. Autoregressively predicts next notes\n",
    "\n",
    "3. Uses probabilistic sampling instead of greedy algorithm\n",
    "\n",
    "4. Generates 1024-note sequence\n",
    "\n",
    "### Multi-instrument arrangement:\n",
    "\n",
    "1. Splits notes into 7 parallel sequences\n",
    "\n",
    "2. Assigns Lo-Fi appropriate instruments:\n",
    "\n",
    "     - 4: Electric Piano\n",
    "\n",
    "     - 5: Chorused Piano\n",
    "\n",
    "     - 6: Harpsichord\n",
    "\n",
    "     - 11: Vibraphone\n",
    "\n",
    "     - 24: Acoustic Guitar\n",
    "\n",
    "     - 32: Acoustic Bass\n",
    "\n",
    "     - 48: Strings\n",
    "\n",
    "3. Exports final MIDI file"
   ]
  },
  {
   "cell_type": "code",
   "execution_count": 43,
   "id": "df8645e5",
   "metadata": {},
   "outputs": [
    {
     "name": "stdout",
     "output_type": "stream",
     "text": [
      "Generated Multi-instrument MIDI saved as Lo-Fi_Generated_Music_Multi_Instrument.mid\n",
      "Generated Single-instrument MIDI saved as Lo-Fi_Generated_Music_Single_Instrument.mid\n"
     ]
    }
   ],
   "source": [
    "def generate_sequence(model, seed, length=1024):\n",
    "    model.eval()\n",
    "    generated = list(seed)\n",
    "    input_seq = torch.tensor(seed, dtype=torch.long).unsqueeze(0).to(device)\n",
    "    hidden = None\n",
    "    for _ in range(length):\n",
    "        output, hidden = model(input_seq, hidden)\n",
    "        probs = torch.softmax(output, dim=-1).detach().cpu().numpy().flatten()\n",
    "        next_note = np.random.choice(np.arange(vocab_size), p=probs)\n",
    "        generated.append(next_note)\n",
    "        input_seq = torch.cat([input_seq[:, 1:], torch.tensor([[next_note]], device=device)], dim=1)\n",
    "    return generated\n",
    "\n",
    "seed = notes[:seq_length]\n",
    "generated_notes = generate_sequence(model, seed, length = 1024)\n",
    "\n",
    "#change this to match the amount of instrument you want to use\n",
    "num_instruments = 7 \n",
    "length = len(generated_notes) // num_instruments\n",
    "\n",
    "# Truncate to a multiple of num_instruments to avoid uneven lists\n",
    "trimmed_length = length * num_instruments\n",
    "trimmed_notes = generated_notes[:trimmed_length]\n",
    "\n",
    "# Group notes by time step: each sublist is [note1, note2, note3] for that tick\n",
    "ticks = [trimmed_notes[i*num_instruments:(i+1)*num_instruments] for i in range(length)]\n",
    "\n",
    "# Transpose: now each instrument gets its own list of notes\n",
    "note_sequences = list(map(list, zip(*ticks)))\n",
    "\n",
    "## Generate Multi-instrument piece\n",
    "\n",
    "# Save generated notes as a MIDI file using your midi_utils\n",
    "output_midi_path = \"Lo-Fi_Generated_Music_Multi_Instrument.mid\"\n",
    "multi_instrument_sequence_to_midi(note_sequences,[4, 5, 6, 11, 24, 32, 48], output_midi_path)\n",
    "print(f\"Generated Multi-instrument MIDI saved as {output_midi_path}\")\n",
    "\n",
    "## Generate Single instrument piece, using Acoustic Guitar\n",
    "output_midi_path = \"Lo-Fi_Generated_Music_Single_Instrument.mid\"\n",
    "note_sequence_to_midi(generated_notes, output_midi_path, program=0)\n",
    "print(f\"Generated Single-instrument MIDI saved as {output_midi_path}\")"
   ]
  },
  {
   "cell_type": "code",
   "execution_count": null,
   "id": "2068155c",
   "metadata": {},
   "outputs": [],
   "source": []
  }
 ],
 "metadata": {
  "kernelspec": {
   "display_name": "Python 3",
   "language": "python",
   "name": "python3"
  },
  "language_info": {
   "codemirror_mode": {
    "name": "ipython",
    "version": 3
   },
   "file_extension": ".py",
   "mimetype": "text/x-python",
   "name": "python",
   "nbconvert_exporter": "python",
   "pygments_lexer": "ipython3",
   "version": "3.11.5"
  }
 },
 "nbformat": 4,
 "nbformat_minor": 5
}
