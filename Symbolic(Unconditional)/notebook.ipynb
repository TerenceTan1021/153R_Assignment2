{
 "cells": [
  {
   "cell_type": "markdown",
   "metadata": {},
   "source": [
    "### Imports and Installations Required for Generating Music"
   ]
  },
  {
   "cell_type": "code",
   "execution_count": 26,
   "metadata": {},
   "outputs": [],
   "source": [
    "import numpy as np\n",
    "from tensorflow import keras\n",
    "from tensorflow.keras import layers\n",
    "import random\n",
    "from glob import glob\n",
    "from collections import defaultdict\n",
    "from numpy.random import choice\n",
    "from symusic import Score\n",
    "from miditok import REMI, TokenizerConfig\n",
    "from midiutil import MIDIFile\n",
    "import mido"
   ]
  },
  {
   "cell_type": "markdown",
   "metadata": {},
   "source": [
    "### Extract (pitch, duration) tuples from a MIDI file."
   ]
  },
  {
   "cell_type": "code",
   "execution_count": 27,
   "metadata": {},
   "outputs": [],
   "source": [
    "def midi_to_note_duration_sequence(filename):\n",
    "    mid = mido.MidiFile(filename)\n",
    "    notes = []\n",
    "    abs_time = 0\n",
    "    note_on_times = {}\n",
    "    for msg in mid:\n",
    "        abs_time += msg.time\n",
    "        if msg.type == 'note_on' and msg.velocity > 0:\n",
    "            note_on_times[msg.note] = abs_time\n",
    "        elif (msg.type == 'note_off' or (msg.type == 'note_on' and msg.velocity == 0)) and msg.note in note_on_times:\n",
    "            duration = abs_time - note_on_times[msg.note]\n",
    "            notes.append((msg.note, int(duration * 480)))  # scale duration for MIDI ticks\n",
    "            del note_on_times[msg.note]\n",
    "    return notes"
   ]
  },
  {
   "cell_type": "markdown",
   "metadata": {},
   "source": [
    "### Create a MIDI file from a sequence of notes, assigning a fixed duration (note_length) to all notes. "
   ]
  },
  {
   "cell_type": "code",
   "execution_count": 28,
   "metadata": {},
   "outputs": [],
   "source": [
    "def note_sequence_to_midi(note_sequence, filename, velocity=64, tempo=500000, note_length=120):\n",
    "    mid = mido.MidiFile()\n",
    "    track = mido.MidiTrack()\n",
    "    mid.tracks.append(track)\n",
    "    track.append(mido.MetaMessage('set_tempo', tempo=tempo))\n",
    "    for note in note_sequence:\n",
    "        track.append(mido.Message('note_on', note=note, velocity=velocity, time=0))\n",
    "        track.append(mido.Message('note_off', note=note, velocity=velocity, time=note_length))\n",
    "    mid.save(filename)"
   ]
  },
  {
   "cell_type": "markdown",
   "metadata": {},
   "source": [
    "### Generate a MIDI file with custom durations for each note, allowing variable-length notes."
   ]
  },
  {
   "cell_type": "code",
   "execution_count": 29,
   "metadata": {},
   "outputs": [],
   "source": [
    "def note_duration_sequence_to_midi(note_duration_sequence, filename, velocity=64, tempo=500000):\n",
    "    mid = mido.MidiFile()\n",
    "    track = mido.MidiTrack()\n",
    "    mid.tracks.append(track)\n",
    "    track.append(mido.MetaMessage('set_tempo', tempo=tempo))\n",
    "    for note, duration in note_duration_sequence:\n",
    "        track.append(mido.Message('note_on', note=note, velocity=velocity, time=0))\n",
    "        track.append(mido.Message('note_off', note=note, velocity=velocity, time=duration))\n",
    "    mid.save(filename)"
   ]
  },
  {
   "cell_type": "markdown",
   "metadata": {},
   "source": [
    "Random seed can be changed to get different results, default its 42, from CSE_153R Homework 3(Spring 2025)"
   ]
  },
  {
   "cell_type": "code",
   "execution_count": 30,
   "metadata": {},
   "outputs": [],
   "source": [
    "random.seed(42)"
   ]
  },
  {
   "cell_type": "markdown",
   "metadata": {},
   "source": [
    "### Loading the music data"
   ]
  },
  {
   "cell_type": "code",
   "execution_count": 31,
   "metadata": {},
   "outputs": [
    {
     "data": {
      "text/plain": [
       "8"
      ]
     },
     "execution_count": 31,
     "metadata": {},
     "output_type": "execute_result"
    }
   ],
   "source": [
    "#first is popular pop songs I enjoy\n",
    "midi_files = glob('data/*.mid')\n",
    "#same midi file data We have trained on for Assigment 1 Task 1\n",
    "#midi_files = glob('Assignment1(Task1_midis)/*.midi')\n",
    "len(midi_files)"
   ]
  },
  {
   "cell_type": "code",
   "execution_count": null,
   "metadata": {},
   "outputs": [],
   "source": []
  }
 ],
 "metadata": {
  "kernelspec": {
   "display_name": "pytorch",
   "language": "python",
   "name": "python3"
  },
  "language_info": {
   "codemirror_mode": {
    "name": "ipython",
    "version": 3
   },
   "file_extension": ".py",
   "mimetype": "text/x-python",
   "name": "python",
   "nbconvert_exporter": "python",
   "pygments_lexer": "ipython3",
   "version": "3.12.7"
  }
 },
 "nbformat": 4,
 "nbformat_minor": 2
}
